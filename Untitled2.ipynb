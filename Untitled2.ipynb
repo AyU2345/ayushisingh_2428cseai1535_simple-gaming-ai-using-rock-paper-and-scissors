{
  "nbformat": 4,
  "nbformat_minor": 0,
  "metadata": {
    "colab": {
      "provenance": [],
      "toc_visible": true,
      "authorship_tag": "ABX9TyO6Yid29k/O85MFRbR6IIzv",
      "include_colab_link": true
    },
    "kernelspec": {
      "name": "python3",
      "display_name": "Python 3"
    },
    "language_info": {
      "name": "python"
    }
  },
  "cells": [
    {
      "cell_type": "markdown",
      "metadata": {
        "id": "view-in-github",
        "colab_type": "text"
      },
      "source": [
        "<a href=\"https://colab.research.google.com/github/AyU2345/ayushisingh_2428cseai1535_simple-gaming-ai-using-rock-paper-and-scissors/blob/main/Untitled2.ipynb\" target=\"_parent\"><img src=\"https://colab.research.google.com/assets/colab-badge.svg\" alt=\"Open In Colab\"/></a>"
      ]
    },
    {
      "cell_type": "code",
      "source": [
        "import random\n",
        "\n",
        "# Function to get the user's choice\n",
        "def get_user_choice():\n",
        "    \"\"\"Prompt the user to input their choice (rock, paper, or scissors)\"\"\"\n",
        "    # Ask the user to enter their choice and convert to lowercase for consistency\n",
        "    user_choice = input(\"Enter your choice (rock, paper, scissors): \").lower()\n",
        "\n",
        "    # Ensure the user input is valid (either 'rock', 'paper', or 'scissors')\n",
        "    while user_choice not in ['rock', 'paper', 'scissors']:\n",
        "        print(\"Invalid input. Please try again.\")\n",
        "        user_choice = input(\"Enter your choice (rock, paper, scissors): \").lower()\n",
        "\n",
        "    return user_choice\n",
        "\n",
        "# Function to randomly choose the AI's move\n",
        "def get_ai_choice():\n",
        "    \"\"\"Generate a random choice for the AI (rock, paper, or scissors)\"\"\"\n",
        "    # The AI makes a random selection from the list of choices\n",
        "    return random.choice(['rock', 'paper', 'scissors'])\n",
        "\n",
        "# Function to determine the winner of the game based on user and AI choices\n",
        "def determine_winner(user_choice, ai_choice):\n",
        "    \"\"\"Determine the outcome of the game based on the rules of Rock-Paper-Scissors\"\"\"\n",
        "\n",
        "    # If both choices are the same, it's a tie\n",
        "    if user_choice == ai_choice:\n",
        "        return \"It's a tie!\"\n",
        "\n",
        "    # If user wins (Rock beats Scissors, Scissors beats Paper, Paper beats Rock)\n",
        "    if (user_choice == 'rock' and ai_choice == 'scissors') or \\\n",
        "       (user_choice == 'scissors' and ai_choice == 'paper') or \\\n",
        "       (user_choice == 'paper' and ai_choice == 'rock'):\n",
        "        return \"You win!\"\n",
        "\n",
        "    # Otherwise, the AI wins\n",
        "    return \"AI wins!\"\n",
        "\n",
        "# Function to run the game\n",
        "def play_game():\n",
        "    \"\"\"Main function to play a single round of Rock-Paper-Scissors\"\"\"\n",
        "    print(\"Welcome to Rock-Paper-Scissors!\")  # Print a welcome message\n",
        "\n",
        "    # Get the user's choice by calling the get_user_choice function\n",
        "    user_choice = get_user_choice()\n",
        "\n",
        "    # Get the AI's choice by calling the get_ai_choice function\n",
        "    ai_choice = get_ai_choice()\n",
        "\n",
        "    # Print the choices made by both the user and the AI\n",
        "    print(f\"Your choice: {user_choice}\")\n",
        "    print(f\"AI's choice: {ai_choice}\")\n",
        "\n",
        "    # Determine and print the result (who wins)\n",
        "    result = determine_winner(user_choice, ai_choice)\n",
        "    print(result)\n",
        "\n",
        "# If this file is run directly (not imported), start the game\n",
        "if __name__ == \"__main__\":\n",
        "    play_game()\n"
      ],
      "metadata": {
        "colab": {
          "base_uri": "https://localhost:8080/"
        },
        "id": "lOx-Ktxjkad-",
        "outputId": "61bc9806-3df4-4a6e-b820-44b33d542e90"
      },
      "execution_count": 3,
      "outputs": [
        {
          "output_type": "stream",
          "name": "stdout",
          "text": [
            "Welcome to Rock-Paper-Scissors!\n",
            "Enter your choice (rock, paper, scissors): rock\n",
            "Your choice: rock\n",
            "AI's choice: paper\n",
            "AI wins!\n"
          ]
        }
      ]
    }
  ]
}